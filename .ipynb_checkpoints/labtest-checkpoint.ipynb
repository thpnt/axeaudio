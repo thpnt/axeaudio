{
 "cells": [
  {
   "cell_type": "markdown",
   "id": "fb848bd6-e8b5-4d9b-bf8e-5286fd6ffe5e",
   "metadata": {},
   "source": [
    "# Audio Recording with PyAudio"
   ]
  },
  {
   "cell_type": "code",
   "execution_count": 1,
   "id": "8154d599-5f34-4dd0-84da-4bd3e83d5efa",
   "metadata": {},
   "outputs": [],
   "source": [
    "import pyaudio\n",
    "\n",
    "import wave\n",
    "\n",
    "import keyboard\n",
    "\n",
    "import threading\n",
    "\n",
    "import os\n",
    "\n",
    "from dotenv import load_dotenv, find_dotenv\n",
    "_ = load_dotenv(find_dotenv())"
   ]
  },
  {
   "cell_type": "markdown",
   "id": "93b78729-f841-47ad-bbf8-e431a33e0ba9",
   "metadata": {},
   "source": [
    "### Instantiate PyAudio Object"
   ]
  },
  {
   "cell_type": "markdown",
   "id": "5262fc78-27c4-48d6-9bef-7596c49d567a",
   "metadata": {},
   "source": [
    "## Trials"
   ]
  },
  {
   "cell_type": "code",
   "execution_count": 7,
   "id": "28d8e2ae-3c04-40b1-9dda-1e9be8637178",
   "metadata": {},
   "outputs": [
    {
     "ename": "NameError",
     "evalue": "name 'RECORD_SECONDS_MAX' is not defined",
     "output_type": "error",
     "traceback": [
      "\u001b[0;31m---------------------------------------------------------------------------\u001b[0m",
      "\u001b[0;31mNameError\u001b[0m                                 Traceback (most recent call last)",
      "Cell \u001b[0;32mIn[7], line 21\u001b[0m\n\u001b[1;32m     13\u001b[0m p \u001b[38;5;241m=\u001b[39m pyaudio\u001b[38;5;241m.\u001b[39mPyAudio()\n\u001b[1;32m     15\u001b[0m stream \u001b[38;5;241m=\u001b[39m p\u001b[38;5;241m.\u001b[39mopen(\u001b[38;5;28mformat\u001b[39m\u001b[38;5;241m=\u001b[39mFORMAT,\n\u001b[1;32m     16\u001b[0m                 channels\u001b[38;5;241m=\u001b[39mCHANNELS,\n\u001b[1;32m     17\u001b[0m                 rate\u001b[38;5;241m=\u001b[39mRATE,\n\u001b[1;32m     18\u001b[0m                 \u001b[38;5;28minput\u001b[39m\u001b[38;5;241m=\u001b[39m\u001b[38;5;28;01mTrue\u001b[39;00m,\n\u001b[1;32m     19\u001b[0m                 frames_per_buffer\u001b[38;5;241m=\u001b[39mCHUNK)\n\u001b[0;32m---> 21\u001b[0m \u001b[38;5;28mprint\u001b[39m(\u001b[38;5;124mf\u001b[39m\u001b[38;5;124m\"\u001b[39m\u001b[38;5;124mRecording will start in 3 seconds... (Press \u001b[39m\u001b[38;5;124m'\u001b[39m\u001b[38;5;124ms\u001b[39m\u001b[38;5;124m'\u001b[39m\u001b[38;5;124m to stop or maximum duration is \u001b[39m\u001b[38;5;132;01m{\u001b[39;00m\u001b[43mRECORD_SECONDS_MAX\u001b[49m\u001b[38;5;132;01m}\u001b[39;00m\u001b[38;5;124m seconds)\u001b[39m\u001b[38;5;124m\"\u001b[39m)\n\u001b[1;32m     23\u001b[0m time\u001b[38;5;241m.\u001b[39msleep(\u001b[38;5;241m3\u001b[39m)\n\u001b[1;32m     25\u001b[0m \u001b[38;5;28mprint\u001b[39m(\u001b[38;5;124mf\u001b[39m\u001b[38;5;124m\"\u001b[39m\u001b[38;5;124mRecording... (Press \u001b[39m\u001b[38;5;124m'\u001b[39m\u001b[38;5;124mCtrl + C\u001b[39m\u001b[38;5;124m'\u001b[39m\u001b[38;5;124m to stop or maximum duration is \u001b[39m\u001b[38;5;132;01m{\u001b[39;00mRECORD_SECONDS_MAX\u001b[38;5;132;01m}\u001b[39;00m\u001b[38;5;124m seconds)\u001b[39m\u001b[38;5;124m\"\u001b[39m)\n",
      "\u001b[0;31mNameError\u001b[0m: name 'RECORD_SECONDS_MAX' is not defined"
     ]
    }
   ],
   "source": [
    "import pyaudio\n",
    "import wave\n",
    "import time\n",
    "import keyboard\n",
    "import os\n",
    "\n",
    "CHUNK = 4096\n",
    "FORMAT = pyaudio.paInt16\n",
    "CHANNELS = 1\n",
    "RATE = 44100\n",
    "RECORD_SECONDS = 30\n",
    "\n",
    "p = pyaudio.PyAudio()\n",
    "\n",
    "stream = p.open(format=FORMAT,\n",
    "                channels=CHANNELS,\n",
    "                rate=RATE,\n",
    "                input=True,\n",
    "                frames_per_buffer=CHUNK)\n",
    "\n",
    "print(f\"Recording will start in 3 seconds... (Press 's' to stop or maximum duration is {RECORD_SECONDS} seconds)\")\n",
    "\n",
    "time.sleep(3)\n",
    "\n",
    "print(f\"Recording... (Press 'Ctrl + C' to stop or maximum duration is {RECORD_SECONDS} seconds)\")\n",
    "\n",
    "\n",
    "frames = []\n",
    "\n",
    "end_time = time.time() + RECORD_SECONDS\n",
    "\n",
    "try:\n",
    "    while time.time() < end_time:\n",
    "        if keyboard.is_pressed('s'):\n",
    "            print(\"Stopped by user.\")\n",
    "            break\n",
    "        data = stream.read(CHUNK)\n",
    "        frames.append(data)\n",
    "except:\n",
    "    print(\"An error occurred while recording.\")\n",
    "\n",
    "\n",
    "\n",
    "print(\"Finished recording.\")\n",
    "\n",
    "\n",
    "stream.stop_stream()\n",
    "stream.close()\n",
    "p.terminate()\n",
    "\n",
    "\n",
    "\n",
    "nb_files = str(len(os.listdir(\"data/raw\"))-3)\n",
    "WAVE_OUTPUT_FILENAME = f\"data/raw/test{nb_files}.wav\"\n",
    "with wave.open(WAVE_OUTPUT_FILENAME, 'wb') as wf:\n",
    "    wf.setnchannels(CHANNELS)\n",
    "    wf.setsampwidth(p.get_sample_size(FORMAT))\n",
    "    wf.setframerate(RATE)\n",
    "    wf.writeframes(b''.join(frames))"
   ]
  },
  {
   "cell_type": "markdown",
   "id": "a9be6cbb-53e0-470a-84ab-6f45a37f14f0",
   "metadata": {},
   "source": [
    "## Working code"
   ]
  },
  {
   "cell_type": "code",
   "execution_count": 14,
   "id": "d1656e16-6e72-4810-a117-afd9fe2ae882",
   "metadata": {},
   "outputs": [
    {
     "name": "stdout",
     "output_type": "stream",
     "text": [
      "Recording will start in 3 seconds... (Press 's' to stop or maximum duration is 60 seconds)\n",
      "Recording... (Press 'Ctrl + C' to stop or maximum duration is 60 seconds)\n",
      "Finished recording.\n"
     ]
    }
   ],
   "source": [
    "import pyaudio\n",
    "import wave\n",
    "import time\n",
    "import keyboard\n",
    "\n",
    "CHUNK = 4096\n",
    "FORMAT = pyaudio.paInt16\n",
    "CHANNELS = 1\n",
    "RATE = 44100\n",
    "RECORD_SECONDS = 30\n",
    "\n",
    "p = pyaudio.PyAudio()\n",
    "\n",
    "stream = p.open(format=FORMAT,\n",
    "                channels=CHANNELS,\n",
    "                rate=RATE,\n",
    "                input=True,\n",
    "                frames_per_buffer=CHUNK)\n",
    "\n",
    "print(f\"Recording will start in 3 seconds... (Press 's' to stop or maximum duration is {RECORD_SECONDS_MAX} seconds)\")\n",
    "\n",
    "time.sleep(3)\n",
    "\n",
    "print(f\"Recording... (Press 'Ctrl + C' to stop or maximum duration is {RECORD_SECONDS_MAX} seconds)\")\n",
    "\n",
    "\n",
    "frames = []\n",
    "\n",
    "def stop_recording():\n",
    "    global RECORD_SECONDS\n",
    "    RECORD_SECONDS = RECORD_SECONDS_MAX\n",
    "\n",
    "\n",
    "# Start a timer to stop recording after RECORD_SECONDS_MAX seconds\n",
    "RECORD_SECONDS = 0\n",
    "timer = threading.Timer(RECORD_SECONDS_MAX, stop_recording)\n",
    "timer.start()\n",
    "\n",
    "\n",
    "try:\n",
    "    while RECORD_SECONDS < RECORD_SECONDS_MAX:\n",
    "        data = stream.read(CHUNK, exception_on_overflow = False)\n",
    "        frames.append(data)\n",
    "except KeyboardInterrupt:\n",
    "    # Ctrl+C was pressed, stop recording\n",
    "    print(\"Finished recording.\")\n",
    "    pass\n",
    "\n",
    "\n",
    "\n",
    "print(\"Finished recording.\")\n",
    "\n",
    "\n",
    "stream.stop_stream()\n",
    "stream.close()\n",
    "p.terminate()\n",
    "\n",
    "\n",
    "\n",
    "\n",
    "\n",
    "WAVE_OUTPUT_FILENAME = \"data/raw/test3.wav\"\n",
    "with wave.open(WAVE_OUTPUT_FILENAME, 'wb') as wf:\n",
    "    wf.setnchannels(CHANNELS)\n",
    "    wf.setsampwidth(p.get_sample_size(FORMAT))\n",
    "    wf.setframerate(RATE)\n",
    "    wf.writeframes(b''.join(frames))"
   ]
  },
  {
   "cell_type": "markdown",
   "id": "81097fd8-7fdb-418f-996f-2d260941b85d",
   "metadata": {},
   "source": [
    "# Audio Transcription with Whisper"
   ]
  },
  {
   "cell_type": "code",
   "execution_count": 9,
   "id": "5b9e5363-c3b8-460e-880c-9c9360fe6916",
   "metadata": {},
   "outputs": [],
   "source": [
    "import openai\n",
    "import os\n",
    "\n",
    "PATH = os.getcwd()\n",
    "\n",
    "audio_file = open(f\"{PATH}/data/raw/cdc_test_1.m4a\", \"rb\")"
   ]
  },
  {
   "cell_type": "code",
   "execution_count": 10,
   "id": "713c6cc9-4cc4-47e0-8e3b-9316704cd5ad",
   "metadata": {},
   "outputs": [],
   "source": [
    "#OpenAI authorizations\n",
    "openai.api_key = os.getenv(\"OPENAI_API_KEY\")\n",
    "openai.organizations = \"org-cMwR4RMO7oQ1BYbT8J6l48ai\""
   ]
  },
  {
   "cell_type": "code",
   "execution_count": 11,
   "id": "cb000e08-62ea-4f61-9c5d-07949ea7a584",
   "metadata": {},
   "outputs": [],
   "source": [
    "#Transcript\n",
    "transcript = openai.Audio.transcribe(\"whisper-1\", audio_file)"
   ]
  },
  {
   "cell_type": "code",
   "execution_count": 14,
   "id": "d59f5aed-a8b4-4e65-bead-c4ece231e4c9",
   "metadata": {},
   "outputs": [
    {
     "data": {
      "text/plain": [
       "\"CAB 59-65-12. 1. L'entreprise Monsieur Durand, de la société Durand & Bougetout, située à Lille, fait 1 million de chiffre d'affaires, date de création 2013, avec un effectif de 8 salariés. 2. L'activité. Ses clients, ce sont les professionnels et les particuliers, avec une répartition de 70% de professionnels et 30% de particuliers. Cette répartition est due à la demande. Auparavant, il était spécialisé uniquement auprès du professionnel. 3. Ses prestations. Il fait de la climatisation, de la pompe à chaleur, de la chaudière et de la salle de bain complète. Ce qu'il fait le plus aujourd'hui, c'est la climatisation, parce que c'était sa spécialité de base. Sa zone de chalandise, c'est toute la mêle. 4. Les éléments clés. Ses concurrents, c'est l'entreprise Jumel et l'entreprise Villeneuve Chauffage. Ses certifications sont RGE et Caligase. Et ses points forts, il fait ses devis en 48 heures, son expérience, la diversité de ses prestations et sa zone d'intervention qui est très large. 5. L'activité de demain. Donc, les clients à développer, ce sont les particuliers, car ils payent plus rapidement. Et la prestation à développer, c'est la pompe à chaleur, car pour lui, c'est plus rentable. Il faut compter en moyenne 15 000 euros pour un chantier de pompe à chaleur. L'objectif qui a été déterminé, c'est un chantier en plus par mois, soit 15 000 euros de chiffre d'affaires supplémentaire. Le profil du client, le point 5, c'est quelqu'un qui rigole beaucoup, qui parle beaucoup. Il partait cet été en vacances. Il est parti en Tanzanie faire un safari. Voilà.\""
      ]
     },
     "execution_count": 14,
     "metadata": {},
     "output_type": "execute_result"
    }
   ],
   "source": [
    "#print output\n",
    "transcript[\"text\"]"
   ]
  },
  {
   "cell_type": "markdown",
   "id": "b23a5502-b658-4d30-8170-1e556108a7ab",
   "metadata": {},
   "source": [
    "## Text transformation with GPT"
   ]
  },
  {
   "cell_type": "code",
   "execution_count": 17,
   "id": "cadf3608-ed31-4859-bd59-ba64f216d880",
   "metadata": {},
   "outputs": [],
   "source": [
    "# Defining helper function\n",
    "def get_completion(prompt, model=\"gpt-3.5-turbo\"):\n",
    "    messages = [{\"role\": \"user\", \"content\": prompt}]\n",
    "    response = openai.ChatCompletion.create(\n",
    "        model=model,\n",
    "        messages=messages,\n",
    "        temperature=0,\n",
    "    )\n",
    "    return response.choices[0].message[\"content\"]"
   ]
  },
  {
   "cell_type": "code",
   "execution_count": 17,
   "id": "48af9934-6f16-40e1-a82f-875a8afcb0c7",
   "metadata": {},
   "outputs": [],
   "source": [
    "import pandas as pd\n",
    "models = openai.Model.list()\n",
    "models_df = pd.DataFrame(models[\"data\"])"
   ]
  },
  {
   "cell_type": "code",
   "execution_count": 22,
   "id": "68501faf-0137-4736-93bd-a81875844fa4",
   "metadata": {},
   "outputs": [
    {
     "data": {
      "text/html": [
       "<div>\n",
       "<style scoped>\n",
       "    .dataframe tbody tr th:only-of-type {\n",
       "        vertical-align: middle;\n",
       "    }\n",
       "\n",
       "    .dataframe tbody tr th {\n",
       "        vertical-align: top;\n",
       "    }\n",
       "\n",
       "    .dataframe thead th {\n",
       "        text-align: right;\n",
       "    }\n",
       "</style>\n",
       "<table border=\"1\" class=\"dataframe\">\n",
       "  <thead>\n",
       "    <tr style=\"text-align: right;\">\n",
       "      <th></th>\n",
       "      <th>id</th>\n",
       "      <th>object</th>\n",
       "      <th>created</th>\n",
       "      <th>owned_by</th>\n",
       "      <th>permission</th>\n",
       "      <th>root</th>\n",
       "      <th>parent</th>\n",
       "    </tr>\n",
       "  </thead>\n",
       "  <tbody>\n",
       "    <tr>\n",
       "      <th>52</th>\n",
       "      <td>gpt-3.5-turbo</td>\n",
       "      <td>model</td>\n",
       "      <td>1677610602</td>\n",
       "      <td>openai</td>\n",
       "      <td>[{'id': 'modelperm-ILldYg889l2lED1b99xWEfey', ...</td>\n",
       "      <td>gpt-3.5-turbo</td>\n",
       "      <td>None</td>\n",
       "    </tr>\n",
       "  </tbody>\n",
       "</table>\n",
       "</div>"
      ],
      "text/plain": [
       "               id object     created owned_by  \\\n",
       "52  gpt-3.5-turbo  model  1677610602   openai   \n",
       "\n",
       "                                           permission           root parent  \n",
       "52  [{'id': 'modelperm-ILldYg889l2lED1b99xWEfey', ...  gpt-3.5-turbo   None  "
      ]
     },
     "execution_count": 22,
     "metadata": {},
     "output_type": "execute_result"
    }
   ],
   "source": [
    "models_df[models_df[\"id\"] == 'gpt-3.5-turbo']"
   ]
  },
  {
   "cell_type": "markdown",
   "id": "cad19e71-9a02-4b02-bcb4-3f5490dc2d52",
   "metadata": {},
   "source": [
    "### CDC"
   ]
  },
  {
   "cell_type": "code",
   "execution_count": 18,
   "id": "daebf37f-439d-4a86-8ca9-02a3b02618cb",
   "metadata": {},
   "outputs": [],
   "source": [
    "text = transcript[\"text\"]"
   ]
  },
  {
   "cell_type": "code",
   "execution_count": 23,
   "id": "97f09fd3-27de-4c77-8fe6-c7313ba5692e",
   "metadata": {},
   "outputs": [],
   "source": [
    "prompt = f\"\"\"General Context : You are working for a web agency that creates websites for small companies and independent worker. \n",
    "One of the department of this company is requested to send a survey to the client collect his preferences for the website to be created.\n",
    "\n",
    "\n",
    "Your task :\n",
    "You will be provided with a raw text between triple backticks which is the recording of someone reading the survey’s results.\n",
    "\n",
    "Perform the following actions :\n",
    "- Identify each categories (ie : questions in the survey) and answers from the client\n",
    "- Re-write the text with : A title, subtitles (categories) and information corresponding to each category. \n",
    "- Format the text : highlight key words and important information\n",
    "- Write a beginning summary with clients information\n",
    "- Write a conclusion summary which is 10 percent the length of the initial file, that sums up relevant information for the website creation.\n",
    "\n",
    "Format everything as HTML that can be used in a website. \n",
    "Place the edited text in a <div> element.\n",
    "\n",
    "\n",
    "Important rules :\n",
    "- You must stick to the information provided by the original text.\n",
    "- Details such as colors, names and activity are important.\n",
    "- Your output must be in French\n",
    "\n",
    "\n",
    "Text : ```{text}```\"\"\""
   ]
  },
  {
   "cell_type": "code",
   "execution_count": 24,
   "id": "1ad15bba-9e9b-4aa0-86fe-106d0f51dc47",
   "metadata": {},
   "outputs": [],
   "source": [
    "response = get_completion(prompt)"
   ]
  },
  {
   "cell_type": "code",
   "execution_count": 25,
   "id": "da180b04-9654-42e5-9291-1daf1629410d",
   "metadata": {},
   "outputs": [
    {
     "data": {
      "text/html": [
       "<div>\n",
       "  <h1>Résultats du sondage</h1>\n",
       "  \n",
       "  <h2>Informations sur le client</h2>\n",
       "  <p>Nom de l'entreprise : Monsieur Durand, Durand & Bougetout</p>\n",
       "  <p>Localisation : Lille</p>\n",
       "  <p>Chiffre d'affaires : 1 million d'euros</p>\n",
       "  <p>Date de création : 2013</p>\n",
       "  <p>Effectif : 8 salariés</p>\n",
       "  \n",
       "  <h2>Activité</h2>\n",
       "  <p>Clients : professionnels (70%) et particuliers (30%)</p>\n",
       "  <p>Spécialisation précédente : professionnels uniquement</p>\n",
       "  \n",
       "  <h2>Prestations</h2>\n",
       "  <p>Services proposés : climatisation, pompe à chaleur, chaudière, salle de bain complète</p>\n",
       "  <p>Service principal : climatisation</p>\n",
       "  <p>Zone de chalandise : toute la région</p>\n",
       "  \n",
       "  <h2>Éléments clés</h2>\n",
       "  <p>Concurrents : entreprise Jumel et entreprise Villeneuve Chauffage</p>\n",
       "  <p>Certifications : RGE et Caligase</p>\n",
       "  <p>Points forts : devis en 48 heures, expérience, diversité des prestations, large zone d'intervention</p>\n",
       "  \n",
       "  <h2>Activité future</h2>\n",
       "  <p>Clients à développer : particuliers</p>\n",
       "  <p>Prestation à développer : pompe à chaleur</p>\n",
       "  <p>Coût moyen d'un chantier de pompe à chaleur : 15 000 euros</p>\n",
       "  <p>Objectif : un chantier supplémentaire par mois, soit 15 000 euros de chiffre d'affaires supplémentaire</p>\n",
       "  \n",
       "  <h2>Profil du client</h2>\n",
       "  <p>Caractéristiques : rigole beaucoup, parle beaucoup, part en vacances, a fait un safari en Tanzanie</p>\n",
       "</div>"
      ],
      "text/plain": [
       "<IPython.core.display.HTML object>"
      ]
     },
     "metadata": {},
     "output_type": "display_data"
    }
   ],
   "source": [
    "from IPython.display import display, HTML\n",
    "display(HTML(response))"
   ]
  },
  {
   "cell_type": "markdown",
   "id": "026643bf-e471-490a-8783-2d9c702232f7",
   "metadata": {},
   "source": [
    "### Web Articles"
   ]
  },
  {
   "cell_type": "code",
   "execution_count": 13,
   "id": "52736be5-109c-469f-829f-e9f76e7f6655",
   "metadata": {},
   "outputs": [],
   "source": [
    "text = f\"\"\"L'Intelligence Artificielle Générative, ou IAG, \\\n",
    "représente une avancée technologique majeure qui ouvre de nouvelles\\\n",
    "perspectives pour les startups en matière d'innovation et de \\\n",
    "créativité. 1. Création du contenu et design innovants. Les startups peuvent \\\n",
    "exploiter l'IAG pour créer du contenu de manière automatisée et innovante. 2. Personnalisation \\\n",
    "de l'expérience client. Grâce à l'IAG, les startups peuvent offrir une expérience client personnalisée et \\\n",
    "immersive. 3. Optimisation des processus de production. L'IAG permet aux \\\n",
    "startups de perfectionner leurs processus de production. Des villes comme Leucato, \\\n",
    "Cambrésie ou Athènes utilisent des modèles d'IAG pour optimiser la gestion des stocks, améliorer \\\n",
    "la planification de la chaîne d'approvisionnement et réduire les coûts de production. 4. Accélération de la \\\n",
    "recherche et du développement. Les startups œuvrant dans la recherche et le développement peuvent tirer parti \\\n",
    "de l'IAG pour offrir des solutions innovantes.\"\"\"\n",
    "    \n",
    "    \n",
    "    \n",
    "prompt = f\"\"\"You work for a web agency specializing in website creation and SEO. The clients send the articles they want to publish text that are audio files transcripted by a speech-to-text model. \n",
    "However this model is not perfect, and sometimes, the generated text is not a ready-to-published text.\n",
    "Your role is to modify this text to make it ready to be published on the web.\n",
    "The text you need to edit is delimited by triple backticks.\n",
    "\n",
    "You remove filling words.\n",
    "You segment the text into coherent parts when it is needed.\n",
    "You add punctuation where it is needed.\n",
    "You proofread and correct the text.\n",
    "You explicit the abbreviations.\n",
    "You edit key words so that they are in bold.\n",
    "\n",
    "The text might contain a Title, subtitles and bullet points, but they are not likely to be explicitly announced. If you recognize a title, a subtitle or a list, edit the text format in consequences.\n",
    "\n",
    "Format everything as HTML that can be used in a website. \n",
    "Place the edited text in a <div> element.\n",
    "\n",
    "Your answer must be in the same language as the text.\n",
    "\n",
    "```{text}```\"\"\"\n",
    "\n"
   ]
  },
  {
   "cell_type": "code",
   "execution_count": 14,
   "id": "ee50daeb-a5ef-4676-8098-6013435fed6e",
   "metadata": {},
   "outputs": [],
   "source": [
    "response = get_completion(prompt)"
   ]
  },
  {
   "cell_type": "code",
   "execution_count": 15,
   "id": "e1047d55-8652-459e-b617-b2f8c8589571",
   "metadata": {},
   "outputs": [
    {
     "data": {
      "text/html": [
       "<div>\n",
       "<h1>L'Intelligence Artificielle Générative, ou IAG</h1>\n",
       "<p>représente une avancée technologique majeure qui ouvre de nouvelles perspectives pour les startups en matière d'innovation et de créativité.</p>\n",
       "\n",
       "<h2>1. Création du contenu et design innovants</h2>\n",
       "<p>Les startups peuvent exploiter l'IAG pour créer du contenu de manière automatisée et innovante.</p>\n",
       "\n",
       "<h2>2. Personnalisation de l'expérience client</h2>\n",
       "<p>Grâce à l'IAG, les startups peuvent offrir une expérience client personnalisée et immersive.</p>\n",
       "\n",
       "<h2>3. Optimisation des processus de production</h2>\n",
       "<p>L'IAG permet aux startups de perfectionner leurs processus de production. Des villes comme Leucato, Cambrésie ou Athènes utilisent des modèles d'IAG pour optimiser la gestion des stocks, améliorer la planification de la chaîne d'approvisionnement et réduire les coûts de production.</p>\n",
       "\n",
       "<h2>4. Accélération de la recherche et du développement</h2>\n",
       "<p>Les startups œuvrant dans la recherche et le développement peuvent tirer parti de l'IAG pour offrir des solutions innovantes.</p>\n",
       "</div>"
      ],
      "text/plain": [
       "<IPython.core.display.HTML object>"
      ]
     },
     "metadata": {},
     "output_type": "display_data"
    }
   ],
   "source": [
    "from IPython.display import display, HTML\n",
    "display(HTML(response))"
   ]
  }
 ],
 "metadata": {
  "kernelspec": {
   "display_name": "Python 3 (ipykernel)",
   "language": "python",
   "name": "python3"
  },
  "language_info": {
   "codemirror_mode": {
    "name": "ipython",
    "version": 3
   },
   "file_extension": ".py",
   "mimetype": "text/x-python",
   "name": "python",
   "nbconvert_exporter": "python",
   "pygments_lexer": "ipython3",
   "version": "3.10.2"
  }
 },
 "nbformat": 4,
 "nbformat_minor": 5
}
