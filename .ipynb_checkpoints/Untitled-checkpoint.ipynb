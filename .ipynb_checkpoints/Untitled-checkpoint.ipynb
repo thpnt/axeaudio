{
 "cells": [
  {
   "cell_type": "markdown",
   "id": "6b6b1699-6813-4abb-9aa8-15db0130ca57",
   "metadata": {},
   "source": [
    "# Test"
   ]
  },
  {
   "cell_type": "code",
   "execution_count": 1,
   "id": "247f3526-3d6c-4604-ae7f-3e30f56677d2",
   "metadata": {},
   "outputs": [],
   "source": [
    "import os"
   ]
  },
  {
   "cell_type": "code",
   "execution_count": 43,
   "id": "fc88b7c5-dae2-4631-9c6d-5ada8d6757eb",
   "metadata": {},
   "outputs": [],
   "source": [
    "data_directory = 'data/raw'"
   ]
  },
  {
   "cell_type": "code",
   "execution_count": 36,
   "id": "91f6b84f-d737-460a-bdf4-19fdf2559a2b",
   "metadata": {},
   "outputs": [],
   "source": [
    "def get_most_recent_file(directory) :\n",
    "    #list files in directory\n",
    "    files = os.listdir(directory)\n",
    "    \n",
    "    #If the directory is empty, raise error\n",
    "    if not files:\n",
    "        raise NameError('The directory provided is empty. Check src/config.py')\n",
    "        return None\n",
    "\n",
    "    #Raise an error if there are no audio_files in the directory\n",
    "    audio_ext = ['.m4a', '.wav', '.mp3']\n",
    "    files_ext = [f[-4:] for f in files]\n",
    "    if not any(x in files_ext for x in audio_ext):\n",
    "        raise  NameError('There is no audio files in the directory provided. Check src/config.py')\n",
    "        return None\n",
    "\n",
    "    #join the path to the files list\n",
    "    path_files = [os.path.join(directory, f) for f in files]\n",
    "\n",
    "    #Join a list of the date of modification of the file\n",
    "    files_times = [[f, os.path.getmtime(f)] for f in path_files]\n",
    "    #sort the list by time of modification\n",
    "    files_times.sort(key=lambda x:x[1], reverse = True)\n",
    "\n",
    "    return files_times[0][0]\n",
    "    "
   ]
  },
  {
   "cell_type": "code",
   "execution_count": 49,
   "id": "f5ad90f3-4c0a-4363-acf8-bf8979aab9b5",
   "metadata": {},
   "outputs": [
    {
     "data": {
      "text/plain": [
       "'test9'"
      ]
     },
     "execution_count": 49,
     "metadata": {},
     "output_type": "execute_result"
    }
   ],
   "source": [
    "get_most_recent_file(data_directory)[:-4][-5:]"
   ]
  },
  {
   "cell_type": "code",
   "execution_count": 50,
   "id": "afc65d7d-f8ad-40fd-82ed-dcbb9074fd18",
   "metadata": {},
   "outputs": [],
   "source": [
    "transcript_directory = 'data/raw_transcript'\n",
    "content = 'random string to test my code'"
   ]
  },
  {
   "cell_type": "code",
   "execution_count": 59,
   "id": "f516e417-6f42-4dda-8edf-686e2208a188",
   "metadata": {},
   "outputs": [],
   "source": [
    "def store_raw_transcript(content, directory):\n",
    "    import os.path\n",
    "\n",
    "    #Get file_name based on the the audio file that was transcripted\n",
    "    file_name = get_most_recent_file('data/raw')[:-4][-5:] + '.txt'\n",
    "    full_path = os.path.join(directory, file_name)\n",
    "\n",
    "    #Open the file and write the content in it\n",
    "    file = open(full_path, 'w')\n",
    "    file.write(content)\n",
    "    file.close()"
   ]
  },
  {
   "cell_type": "code",
   "execution_count": 60,
   "id": "6b142057-6f87-4a72-a659-faf5bd042644",
   "metadata": {},
   "outputs": [
    {
     "ename": "FileNotFoundError",
     "evalue": "[Errno 2] No such file or directory: 'data/raw_transcript/test9.txt'",
     "output_type": "error",
     "traceback": [
      "\u001b[0;31m---------------------------------------------------------------------------\u001b[0m",
      "\u001b[0;31mFileNotFoundError\u001b[0m                         Traceback (most recent call last)",
      "Cell \u001b[0;32mIn[60], line 1\u001b[0m\n\u001b[0;32m----> 1\u001b[0m \u001b[43mstore_raw_transcript\u001b[49m\u001b[43m(\u001b[49m\u001b[43mcontent\u001b[49m\u001b[43m,\u001b[49m\u001b[43m \u001b[49m\u001b[43mtranscript_directory\u001b[49m\u001b[43m)\u001b[49m\n",
      "Cell \u001b[0;32mIn[59], line 9\u001b[0m, in \u001b[0;36mstore_raw_transcript\u001b[0;34m(content, directory)\u001b[0m\n\u001b[1;32m      6\u001b[0m full_path \u001b[38;5;241m=\u001b[39m os\u001b[38;5;241m.\u001b[39mpath\u001b[38;5;241m.\u001b[39mjoin(directory, file_name)\n\u001b[1;32m      8\u001b[0m \u001b[38;5;66;03m#Open the file and write the content in it\u001b[39;00m\n\u001b[0;32m----> 9\u001b[0m file \u001b[38;5;241m=\u001b[39m \u001b[38;5;28;43mopen\u001b[39;49m\u001b[43m(\u001b[49m\u001b[43mfull_path\u001b[49m\u001b[43m,\u001b[49m\u001b[43m \u001b[49m\u001b[38;5;124;43m'\u001b[39;49m\u001b[38;5;124;43mw\u001b[39;49m\u001b[38;5;124;43m'\u001b[39;49m\u001b[43m)\u001b[49m\n\u001b[1;32m     10\u001b[0m file\u001b[38;5;241m.\u001b[39mwrite(content)\n\u001b[1;32m     11\u001b[0m file\u001b[38;5;241m.\u001b[39mclose()\n",
      "File \u001b[0;32m~/code/axeproject/axeaudio/axeenv/lib/python3.10/site-packages/IPython/core/interactiveshell.py:284\u001b[0m, in \u001b[0;36m_modified_open\u001b[0;34m(file, *args, **kwargs)\u001b[0m\n\u001b[1;32m    277\u001b[0m \u001b[38;5;28;01mif\u001b[39;00m file \u001b[38;5;129;01min\u001b[39;00m {\u001b[38;5;241m0\u001b[39m, \u001b[38;5;241m1\u001b[39m, \u001b[38;5;241m2\u001b[39m}:\n\u001b[1;32m    278\u001b[0m     \u001b[38;5;28;01mraise\u001b[39;00m \u001b[38;5;167;01mValueError\u001b[39;00m(\n\u001b[1;32m    279\u001b[0m         \u001b[38;5;124mf\u001b[39m\u001b[38;5;124m\"\u001b[39m\u001b[38;5;124mIPython won\u001b[39m\u001b[38;5;124m'\u001b[39m\u001b[38;5;124mt let you open fd=\u001b[39m\u001b[38;5;132;01m{\u001b[39;00mfile\u001b[38;5;132;01m}\u001b[39;00m\u001b[38;5;124m by default \u001b[39m\u001b[38;5;124m\"\u001b[39m\n\u001b[1;32m    280\u001b[0m         \u001b[38;5;124m\"\u001b[39m\u001b[38;5;124mas it is likely to crash IPython. If you know what you are doing, \u001b[39m\u001b[38;5;124m\"\u001b[39m\n\u001b[1;32m    281\u001b[0m         \u001b[38;5;124m\"\u001b[39m\u001b[38;5;124myou can use builtins\u001b[39m\u001b[38;5;124m'\u001b[39m\u001b[38;5;124m open.\u001b[39m\u001b[38;5;124m\"\u001b[39m\n\u001b[1;32m    282\u001b[0m     )\n\u001b[0;32m--> 284\u001b[0m \u001b[38;5;28;01mreturn\u001b[39;00m \u001b[43mio_open\u001b[49m\u001b[43m(\u001b[49m\u001b[43mfile\u001b[49m\u001b[43m,\u001b[49m\u001b[43m \u001b[49m\u001b[38;5;241;43m*\u001b[39;49m\u001b[43margs\u001b[49m\u001b[43m,\u001b[49m\u001b[43m \u001b[49m\u001b[38;5;241;43m*\u001b[39;49m\u001b[38;5;241;43m*\u001b[39;49m\u001b[43mkwargs\u001b[49m\u001b[43m)\u001b[49m\n",
      "\u001b[0;31mFileNotFoundError\u001b[0m: [Errno 2] No such file or directory: 'data/raw_transcript/test9.txt'"
     ]
    }
   ],
   "source": [
    "store_raw_transcript(content, transcript_directory)"
   ]
  }
 ],
 "metadata": {
  "kernelspec": {
   "display_name": "Python 3 (ipykernel)",
   "language": "python",
   "name": "python3"
  },
  "language_info": {
   "codemirror_mode": {
    "name": "ipython",
    "version": 3
   },
   "file_extension": ".py",
   "mimetype": "text/x-python",
   "name": "python",
   "nbconvert_exporter": "python",
   "pygments_lexer": "ipython3",
   "version": "3.10.2"
  }
 },
 "nbformat": 4,
 "nbformat_minor": 5
}
