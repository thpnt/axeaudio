{
 "cells": [
  {
   "cell_type": "markdown",
   "id": "6b6b1699-6813-4abb-9aa8-15db0130ca57",
   "metadata": {},
   "source": [
    "# Test"
   ]
  },
  {
   "cell_type": "code",
   "execution_count": 1,
   "id": "247f3526-3d6c-4604-ae7f-3e30f56677d2",
   "metadata": {},
   "outputs": [],
   "source": [
    "import os"
   ]
  },
  {
   "cell_type": "code",
   "execution_count": 43,
   "id": "fc88b7c5-dae2-4631-9c6d-5ada8d6757eb",
   "metadata": {},
   "outputs": [],
   "source": [
    "data_directory = 'data/raw'"
   ]
  },
  {
   "cell_type": "code",
   "execution_count": 6,
   "id": "91f6b84f-d737-460a-bdf4-19fdf2559a2b",
   "metadata": {},
   "outputs": [],
   "source": [
    "def get_most_recent_file(directory) :\n",
    "    #list files in directory\n",
    "    files = os.listdir(directory)\n",
    "    \n",
    "    #If the directory is empty, raise error\n",
    "    if not files:\n",
    "        raise NameError('The directory provided is empty. Check src/config.py')\n",
    "        return None\n",
    "\n",
    "    #Raise an error if there are no audio_files in the directory\n",
    "    audio_ext = ['.m4a', '.wav', '.mp3']\n",
    "    files_ext = [f[-4:] for f in files]\n",
    "    if not any(x in files_ext for x in audio_ext):\n",
    "        raise  NameError('There is no audio files in the directory provided. Check src/config.py')\n",
    "        return None\n",
    "\n",
    "    #join the path to the files list\n",
    "    path_files = [os.path.join(directory, f) for f in files]\n",
    "\n",
    "    #Join a list of the date of modification of the file\n",
    "    files_times = [[f, os.path.getmtime(f)] for f in path_files]\n",
    "    #sort the list by time of modification\n",
    "    files_times.sort(key=lambda x:x[1], reverse = True)\n",
    "\n",
    "    return files_times[0][0]\n",
    "    "
   ]
  },
  {
   "cell_type": "code",
   "execution_count": 49,
   "id": "f5ad90f3-4c0a-4363-acf8-bf8979aab9b5",
   "metadata": {},
   "outputs": [
    {
     "data": {
      "text/plain": [
       "'test9'"
      ]
     },
     "execution_count": 49,
     "metadata": {},
     "output_type": "execute_result"
    }
   ],
   "source": [
    "get_most_recent_file(data_directory)[:-4][-5:]"
   ]
  },
  {
   "cell_type": "code",
   "execution_count": 13,
   "id": "afc65d7d-f8ad-40fd-82ed-dcbb9074fd18",
   "metadata": {},
   "outputs": [],
   "source": [
    "transcript_directory = 'data/raw_transcripts'\n",
    "content = 'random string to test my code'"
   ]
  },
  {
   "cell_type": "code",
   "execution_count": 14,
   "id": "f516e417-6f42-4dda-8edf-686e2208a188",
   "metadata": {},
   "outputs": [],
   "source": [
    "def store_raw_transcript(content, directory):\n",
    "    import os.path\n",
    "\n",
    "    #Get file_name based on the the audio file that was transcripted\n",
    "    file_name = get_most_recent_file('data/raw')[:-4][-5:] + '.txt'\n",
    "    full_path = os.path.join(directory, file_name)\n",
    "\n",
    "    #Open the file and write the content in it\n",
    "    with open(full_path, 'w') as file :\n",
    "        file.write(content)\n",
    "\n",
    "    return"
   ]
  },
  {
   "cell_type": "code",
   "execution_count": 15,
   "id": "6b142057-6f87-4a72-a659-faf5bd042644",
   "metadata": {},
   "outputs": [],
   "source": [
    "store_raw_transcript(content, transcript_directory)"
   ]
  },
  {
   "cell_type": "code",
   "execution_count": 22,
   "id": "ece3ee55-8bd2-4715-bff9-59ab18c04ae5",
   "metadata": {},
   "outputs": [],
   "source": [
    "def get_most_recent_file(directory: str) -> str:\n",
    "    import os\n",
    "    #list files in directory\n",
    "    files = os.listdir(directory)\n",
    "    \n",
    "    #If the directory is empty, raise error\n",
    "    if not files:\n",
    "        raise NameError('The directory provided is empty. Check src/config.py')\n",
    "        return None\n",
    "\n",
    "    #Raise an error if there are no audio_files in the directory\n",
    "    audio_ext = ['.m4a', '.wav', '.mp3']\n",
    "    files_ext = [f[-4:] for f in files]\n",
    "    if not any(x in files_ext for x in audio_ext):\n",
    "        raise  NameError('There is no audio files in the directory provided. Check src/config.py')\n",
    "        return None\n",
    "\n",
    "    #join the path to the files list\n",
    "    path_files = [os.path.join(directory, f) for f in files]\n",
    "\n",
    "    #Join a list of the date of modification of the file\n",
    "    files_times = [[f, os.path.getmtime(f)] for f in path_files]\n",
    "    #sort the list by time of modification\n",
    "    files_times.sort(key=lambda x:x[1], reverse = True)\n",
    "\n",
    "    return files_times[0][0]"
   ]
  },
  {
   "cell_type": "code",
   "execution_count": 23,
   "id": "8d8a3cd8-d20a-4766-a6be-6e0ef9e620be",
   "metadata": {},
   "outputs": [
    {
     "data": {
      "text/plain": [
       "'data/raw/test6.wav'"
      ]
     },
     "execution_count": 23,
     "metadata": {},
     "output_type": "execute_result"
    }
   ],
   "source": [
    "get_most_recent_file(DATA_DIRECTORY)"
   ]
  },
  {
   "cell_type": "markdown",
   "id": "f3231d12-c719-40dd-8544-20f1721acf00",
   "metadata": {},
   "source": [
    "## test transcription.py"
   ]
  },
  {
   "cell_type": "code",
   "execution_count": 13,
   "id": "68b55aa5-8210-4bd9-b638-b63ac9f1613d",
   "metadata": {},
   "outputs": [],
   "source": [
    "DATA_DIRECTORY = \"data/raw\"\n",
    "TRANSCRIPT_DIRECTORY = \"data/raw_transcripts\"\n",
    "EDITED_DIRECTORY = \"data/edited_transcripts\""
   ]
  },
  {
   "cell_type": "code",
   "execution_count": 2,
   "id": "25eb48e2-bce3-4da0-b072-fa1338f3d0a6",
   "metadata": {},
   "outputs": [],
   "source": [
    "def prompt_article(text: str) -> str :\n",
    "    ### This function returns the prompt sent to the API for website article treatment.\n",
    "    PROMPT_ARTICLE = f\"\"\"You work for a web agency specializing in website creation and SEO. The clients send the articles they want to publish text that are audio files transcripted by a speech-to-text model. \n",
    "    However this model is not perfect, and sometimes, the generated text is not a ready-to-published text.\n",
    "    Your role is to modify this text to make it ready to be published on the web.\n",
    "    The text you need to edit is delimited by triple backticks.\n",
    "\n",
    "    You remove filling words.\n",
    "    You segment the text into coherent parts when it is needed.\n",
    "    You add punctuation where it is needed.\n",
    "    You proofread and correct the text.\n",
    "    You explicit the abbreviations.\n",
    "    You edit key words so that they are in bold.\n",
    "\n",
    "    The text might contain a Title, subtitles and bullet points, but they are not likely to be explicitly announced. If you recognize a title, a subtitle or a list, edit the text format in consequences.\n",
    "\n",
    "    Format everything as HTML that can be used in a website. \n",
    "    Place the edited text in a <div> element.\n",
    "\n",
    "    Your answer must be in the same language as the text.\n",
    "\n",
    "    ```{text}```\"\"\"\n",
    "    return PROMPT_ARTICLE"
   ]
  },
  {
   "cell_type": "code",
   "execution_count": 3,
   "id": "4342eaab-8e96-44be-848c-4188e2e08052",
   "metadata": {},
   "outputs": [],
   "source": [
    "#Utils\n",
    "\n",
    "#GPT API\n",
    "import openai\n",
    "import os\n",
    "#OpenAI creds\n",
    "openai.api_key = os.getenv(\"OPENAI_API_KEY\")\n",
    "openai.organizations = \"org-cMwR4RMO7oQ1BYbT8J6l48ai\"\n",
    "def get_completion(prompt: str, model=\"gpt-3.5-turbo\") -> str:\n",
    "    import openai\n",
    "    messages = [{\"role\": \"user\", \"content\": prompt}]\n",
    "    response = openai.ChatCompletion.create(\n",
    "        model=model,\n",
    "        messages=messages,\n",
    "        temperature=0,\n",
    "    )\n",
    "    return response.choices[0].message[\"content\"]\n",
    "\n",
    "#File storage   \n",
    "def get_most_recent_file(directory: str) -> str:\n",
    "    import os\n",
    "    #list files in directory\n",
    "    files = os.listdir(directory)\n",
    "    \n",
    "    #If the directory is empty, raise error\n",
    "    if not files:\n",
    "        raise NameError('The directory provided is empty. Check src/config.py')\n",
    "        return None\n",
    "\n",
    "    #Raise an error if there are no audio_files in the directory\n",
    "    audio_ext = ['.m4a', '.wav', '.mp3']\n",
    "    files_ext = [f[-4:] for f in files]\n",
    "    if not any(x in files_ext for x in audio_ext):\n",
    "        raise  NameError('There is no audio files in the directory provided. Check src/config.py')\n",
    "        return None\n",
    "\n",
    "    #join the path to the files list\n",
    "    path_files = [os.path.join(directory, f) for f in files]\n",
    "\n",
    "    #Join a list of the date of modification of the file\n",
    "    files_times = [[f, os.path.getmtime(f)] for f in path_files]\n",
    "    #sort the list by time of modification\n",
    "    files_times.sort(key=lambda x:x[1], reverse = True)\n",
    "\n",
    "    return files_times[0][0]\n",
    "        \n",
    "        \n",
    "def store_transcript(content: str, destination_directory: str, data_directory: str):\n",
    "    import os.path\n",
    "\n",
    "    #Get file_name based on the the audio file that was transcripted\n",
    "    file_name = get_most_recent_file(data_directory)[:-4][-5:] + '.txt'\n",
    "    full_path = os.path.join(destination_directory, file_name)\n",
    "\n",
    "    #Open the file and write the content in it\n",
    "    with open(full_path, 'w') as file :\n",
    "        file.write(content)\n",
    "    return\n"
   ]
  },
  {
   "cell_type": "code",
   "execution_count": 14,
   "id": "ffb81f1e-99d2-4cf2-a941-d57ff7ae0930",
   "metadata": {},
   "outputs": [],
   "source": [
    "from dotenv import load_dotenv\n",
    "import openai\n",
    "import os\n",
    "\n",
    "\n",
    "#OpenAI creds\n",
    "_  = load_dotenv()\n",
    "openai.api_key = os.getenv(\"OPENAI_API_KEY\")\n",
    "openai.organizations = \"org-cMwR4RMO7oQ1BYbT8J6l48ai\"\n",
    "\n",
    "#Get the audio most recent_audio files in the data_directory\n",
    "#cwd = os.getcwd()\n",
    "#PATH = os.path.abspath(os.path.join(cwd, os.pardir))\n",
    "PATH = os.getcwd()\n",
    "file_name = get_most_recent_file(DATA_DIRECTORY)\n",
    "audio_file = open(f\"{PATH}/{file_name}\", 'rb')"
   ]
  },
  {
   "cell_type": "code",
   "execution_count": 9,
   "id": "d060994e-ecf4-43bc-bc37-4a7b28e34812",
   "metadata": {},
   "outputs": [
    {
     "data": {
      "text/plain": [
       "'/Users/theopinto--dalle/code/axeproject/axeaudio/data/raw/test6.wav'"
      ]
     },
     "execution_count": 9,
     "metadata": {},
     "output_type": "execute_result"
    }
   ],
   "source": [
    "f\"{PATH}/{file_name}\""
   ]
  },
  {
   "cell_type": "code",
   "execution_count": 15,
   "id": "3cdfcbf3-b9c2-40b9-ad62-0d7e21b8099b",
   "metadata": {},
   "outputs": [],
   "source": [
    "#Transcript audio_file\n",
    "transcript = openai.Audio.transcribe(\"whisper-1\", audio_file)\n",
    "text = transcript['text']\n",
    "#Store raw_transcript\n",
    "store_transcript(text, TRANSCRIPT_DIRECTORY, DATA_DIRECTORY)"
   ]
  },
  {
   "cell_type": "code",
   "execution_count": 16,
   "id": "17d2648a-1970-42ae-be21-97953cde0dbc",
   "metadata": {},
   "outputs": [
    {
     "name": "stdin",
     "output_type": "stream",
     "text": [
      "You want to transcribe a web articles ? (\"y\" if True else \"n\" then type enter) :  y\n"
     ]
    }
   ],
   "source": [
    "#Text transformation with GPT\n",
    "treatment_type = input('You want to transcribe a web articles ? (\"y\" if True else \"n\" then type enter) : ')\n",
    "\n",
    "while not any(treatment_type == x for x in ['y', 'n']) :\n",
    "    treatment_type = input('Invalid input. Enter <y> for web article treatment, <n> for CDC treatment : ')\n",
    "    \n",
    "    \n",
    "match treatment_type:\n",
    "    case 'y' :\n",
    "        prompt = prompt_article(text)\n",
    "        response = get_completion(prompt)\n",
    "    case 'n' :\n",
    "        prompt = prompt_cdc(text)\n",
    "        response = get_completion(prompt)\n",
    "\n",
    "store_transcript(response, EDITED_DIRECTORY, DATA_DIRECTORY)"
   ]
  }
 ],
 "metadata": {
  "kernelspec": {
   "display_name": "Python 3 (ipykernel)",
   "language": "python",
   "name": "python3"
  },
  "language_info": {
   "codemirror_mode": {
    "name": "ipython",
    "version": 3
   },
   "file_extension": ".py",
   "mimetype": "text/x-python",
   "name": "python",
   "nbconvert_exporter": "python",
   "pygments_lexer": "ipython3",
   "version": "3.10.2"
  }
 },
 "nbformat": 4,
 "nbformat_minor": 5
}
