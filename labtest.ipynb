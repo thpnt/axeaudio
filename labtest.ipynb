{
 "cells": [
  {
   "cell_type": "markdown",
   "id": "fb848bd6-e8b5-4d9b-bf8e-5286fd6ffe5e",
   "metadata": {},
   "source": [
    "# Audio Recording with PyAudio"
   ]
  },
  {
   "cell_type": "code",
   "execution_count": 6,
   "id": "2cd40d21-f5d2-45ea-8db7-a8e43407353f",
   "metadata": {},
   "outputs": [],
   "source": [
    "import pyaudio\n",
    "\n",
    "import wave\n",
    "\n",
    "import keyboard\n",
    "\n",
    "import threading"
   ]
  },
  {
   "cell_type": "code",
   "execution_count": 7,
   "id": "060e4dbe-8da9-4c7e-965c-106deccc43cb",
   "metadata": {},
   "outputs": [],
   "source": [
    "#Params\n",
    "CHUNK = 1024\n",
    "FORMAT = pyaudio.paInt16\n",
    "CHANNELS = 1\n",
    "RATE = 44100\n",
    "RECORD_SECONDS_MAX = 10  # Set the maximum recording duration in seconds"
   ]
  },
  {
   "cell_type": "markdown",
   "id": "93b78729-f841-47ad-bbf8-e431a33e0ba9",
   "metadata": {},
   "source": [
    "### Instantiate PyAudio Object"
   ]
  },
  {
   "cell_type": "code",
   "execution_count": 8,
   "id": "16b5c718-f6a7-414b-9003-429da03ba32e",
   "metadata": {},
   "outputs": [],
   "source": [
    "p = pyaudio.PyAudio()"
   ]
  },
  {
   "cell_type": "code",
   "execution_count": 10,
   "id": "d1656e16-6e72-4810-a117-afd9fe2ae882",
   "metadata": {},
   "outputs": [
    {
     "name": "stdout",
     "output_type": "stream",
     "text": [
      "Recording... (Press 'Control + C' to stop or maximum duration is 10 seconds)\n",
      "Finished recording.\n"
     ]
    }
   ],
   "source": [
    "stream = p.open(format=FORMAT,\n",
    "                channels=CHANNELS,\n",
    "                rate=RATE,\n",
    "                input=True,\n",
    "                frames_per_buffer=CHUNK)\n",
    "\n",
    "print(f\"Recording... (Press 'Control + C' to stop or maximum duration is {RECORD_SECONDS_MAX} seconds)\")\n",
    "\n",
    "\n",
    "frames = []\n",
    "\n",
    "def stop_recording():\n",
    "    global RECORD_SECONDS\n",
    "    RECORD_SECONDS = RECORD_SECONDS_MAX\n",
    "\n",
    "\n",
    "# Start a timer to stop recording after RECORD_SECONDS_MAX seconds\n",
    "RECORD_SECONDS_MAX = 10\n",
    "RECORD_SECONDS = 0\n",
    "timer = threading.Timer(RECORD_SECONDS_MAX, stop_recording)\n",
    "timer.start()\n",
    "\n",
    "\n",
    "try:\n",
    "    while RECORD_SECONDS < RECORD_SECONDS_MAX:\n",
    "        data = stream.read(CHUNK)\n",
    "        frames.append(data)\n",
    "except KeyboardInterrupt:\n",
    "    # Ctrl+C was pressed, stop recording\n",
    "    print(\"Finished recording.\")\n",
    "    pass\n",
    "\n",
    "print(\"Finished recording.\")\n",
    "\n",
    "\n",
    "stream.stop_stream()\n",
    "stream.close()\n",
    "p.terminate()\n",
    "\n",
    "\n",
    "\n",
    "\n",
    "\n",
    "WAVE_OUTPUT_FILENAME = \"data/raw/test2.wav\"\n",
    "wf = wave.open(WAVE_OUTPUT_FILENAME, 'wb')\n",
    "wf.setnchannels(CHANNELS)\n",
    "wf.setsampwidth(p.get_sample_size(FORMAT))\n",
    "wf.setframerate(RATE)\n",
    "wf.writeframes(b''.join(frames))\n",
    "wf.close()"
   ]
  },
  {
   "cell_type": "markdown",
   "id": "81097fd8-7fdb-418f-996f-2d260941b85d",
   "metadata": {},
   "source": [
    "# Audio Transcription with Whisper"
   ]
  },
  {
   "cell_type": "code",
   "execution_count": null,
   "id": "63ad4af0-1c11-4ae5-83c0-c5876885c786",
   "metadata": {},
   "outputs": [],
   "source": []
  }
 ],
 "metadata": {
  "kernelspec": {
   "display_name": "Python 3 (ipykernel)",
   "language": "python",
   "name": "python3"
  },
  "language_info": {
   "codemirror_mode": {
    "name": "ipython",
    "version": 3
   },
   "file_extension": ".py",
   "mimetype": "text/x-python",
   "name": "python",
   "nbconvert_exporter": "python",
   "pygments_lexer": "ipython3",
   "version": "3.10.6"
  }
 },
 "nbformat": 4,
 "nbformat_minor": 5
}
