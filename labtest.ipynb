{
 "cells": [
  {
   "cell_type": "markdown",
   "id": "fb848bd6-e8b5-4d9b-bf8e-5286fd6ffe5e",
   "metadata": {},
   "source": [
    "# Audio Recording with PyAudio"
   ]
  },
  {
   "cell_type": "code",
   "execution_count": 1,
   "id": "8154d599-5f34-4dd0-84da-4bd3e83d5efa",
   "metadata": {},
   "outputs": [],
   "source": [
    "import pyaudio\n",
    "\n",
    "import wave\n",
    "\n",
    "import keyboard\n",
    "\n",
    "import threading\n",
    "\n",
    "import os\n",
    "\n",
    "from dotenv import load_dotenv, find_dotenv\n",
    "_ = load_dotenv(find_dotenv())"
   ]
  },
  {
   "cell_type": "code",
   "execution_count": 13,
   "id": "060e4dbe-8da9-4c7e-965c-106deccc43cb",
   "metadata": {},
   "outputs": [],
   "source": [
    "#Params\n",
    "CHUNK = 1024\n",
    "FORMAT = pyaudio.paInt16\n",
    "CHANNELS = 1\n",
    "RATE = 44100\n",
    "RECORD_SECONDS_MAX = 60 # Set the maximum recording duration in seconds"
   ]
  },
  {
   "cell_type": "markdown",
   "id": "93b78729-f841-47ad-bbf8-e431a33e0ba9",
   "metadata": {},
   "source": [
    "### Instantiate PyAudio Object"
   ]
  },
  {
   "cell_type": "code",
   "execution_count": 11,
   "id": "16b5c718-f6a7-414b-9003-429da03ba32e",
   "metadata": {},
   "outputs": [],
   "source": [
    "p = pyaudio.PyAudio()"
   ]
  },
  {
   "cell_type": "code",
   "execution_count": 14,
   "id": "d1656e16-6e72-4810-a117-afd9fe2ae882",
   "metadata": {},
   "outputs": [
    {
     "name": "stdout",
     "output_type": "stream",
     "text": [
      "Recording will start in 3 seconds... (Press 's' to stop or maximum duration is 60 seconds)\n",
      "Recording... (Press 'Ctrl + C' to stop or maximum duration is 60 seconds)\n",
      "Finished recording.\n"
     ]
    }
   ],
   "source": [
    "import time\n",
    "\n",
    "stream = p.open(format=FORMAT,\n",
    "                channels=CHANNELS,\n",
    "                rate=RATE,\n",
    "                input=True,\n",
    "                frames_per_buffer=CHUNK)\n",
    "\n",
    "print(f\"Recording will start in 3 seconds... (Press 's' to stop or maximum duration is {RECORD_SECONDS_MAX} seconds)\")\n",
    "\n",
    "time.sleep(3)\n",
    "\n",
    "print(f\"Recording... (Press 'Ctrl + C' to stop or maximum duration is {RECORD_SECONDS_MAX} seconds)\")\n",
    "\n",
    "\n",
    "frames = []\n",
    "\n",
    "def stop_recording():\n",
    "    global RECORD_SECONDS\n",
    "    RECORD_SECONDS = RECORD_SECONDS_MAX\n",
    "\n",
    "\n",
    "# Start a timer to stop recording after RECORD_SECONDS_MAX seconds\n",
    "RECORD_SECONDS = 0\n",
    "timer = threading.Timer(RECORD_SECONDS_MAX, stop_recording)\n",
    "timer.start()\n",
    "\n",
    "\n",
    "try:\n",
    "    while RECORD_SECONDS < RECORD_SECONDS_MAX:\n",
    "        data = stream.read(CHUNK, exception_on_overflow = False)\n",
    "        frames.append(data)\n",
    "except KeyboardInterrupt:\n",
    "    # Ctrl+C was pressed, stop recording\n",
    "    print(\"Finished recording.\")\n",
    "    pass\n",
    "\n",
    "\n",
    "\n",
    "print(\"Finished recording.\")\n",
    "\n",
    "\n",
    "stream.stop_stream()\n",
    "stream.close()\n",
    "p.terminate()\n",
    "\n",
    "\n",
    "\n",
    "\n",
    "\n",
    "WAVE_OUTPUT_FILENAME = \"data/raw/test3.wav\"\n",
    "with wave.open(WAVE_OUTPUT_FILENAME, 'wb') as wf:\n",
    "    wf.setnchannels(CHANNELS)\n",
    "    wf.setsampwidth(p.get_sample_size(FORMAT))\n",
    "    wf.setframerate(RATE)\n",
    "    wf.writeframes(b''.join(frames))"
   ]
  },
  {
   "cell_type": "markdown",
   "id": "81097fd8-7fdb-418f-996f-2d260941b85d",
   "metadata": {},
   "source": [
    "# Audio Transcription with Whisper"
   ]
  },
  {
   "cell_type": "code",
   "execution_count": 2,
   "id": "5b9e5363-c3b8-460e-880c-9c9360fe6916",
   "metadata": {},
   "outputs": [],
   "source": [
    "import openai\n",
    "import os\n",
    "\n",
    "PATH = os.getcwd()\n",
    "\n",
    "audio_file = open(f\"{PATH}/data/raw/test3.wav\", \"rb\")"
   ]
  },
  {
   "cell_type": "code",
   "execution_count": 3,
   "id": "713c6cc9-4cc4-47e0-8e3b-9316704cd5ad",
   "metadata": {},
   "outputs": [],
   "source": [
    "#OpenAI authorizations\n",
    "openai.api_key = os.getenv(\"OPENAI_API_KEY\")\n",
    "openai.organizations = \"org-cMwR4RMO7oQ1BYbT8J6l48ai\""
   ]
  },
  {
   "cell_type": "code",
   "execution_count": 5,
   "id": "cb000e08-62ea-4f61-9c5d-07949ea7a584",
   "metadata": {},
   "outputs": [],
   "source": [
    "#Transcript\n",
    "transcript = openai.Audio.transcribe(\"whisper-1\", audio_file)"
   ]
  },
  {
   "cell_type": "code",
   "execution_count": 8,
   "id": "d59f5aed-a8b4-4e65-bead-c4ece231e4c9",
   "metadata": {},
   "outputs": [
    {
     "data": {
      "text/plain": [
       "\"L'Intelligence Artificielle Générative, ou IAG, représente une avancée technologique majeure qui ouvre de nouvelles perspectives pour les startups en matière d'innovation et de créativité. 1. Création du contenu et design innovants. Les startups peuvent exploiter l'IAG pour créer du contenu de manière automatisée et innovante. 2. Personnalisation de l'expérience client. Grâce à l'IAG, les startups peuvent offrir une expérience client personnalisée et immersive. 3. Optimisation des processus de production. L'IAG permet aux startups de perfectionner leurs processus de production. Des villes comme Leucato, Cambrésie ou Athènes utilisent des modèles d'IAG pour optimiser la gestion des stocks, améliorer la planification de la chaîne d'approvisionnement et réduire les coûts de production. 4. Accélération de la recherche et du développement. Les startups œuvrant dans la recherche et le développement peuvent tirer parti de l'IAG pour offrir des solutions innovantes.\""
      ]
     },
     "execution_count": 8,
     "metadata": {},
     "output_type": "execute_result"
    }
   ],
   "source": [
    "#print output\n",
    "transcript[\"text\"]"
   ]
  },
  {
   "cell_type": "markdown",
   "id": "b23a5502-b658-4d30-8170-1e556108a7ab",
   "metadata": {},
   "source": [
    "## Text transformation with GPT"
   ]
  },
  {
   "cell_type": "code",
   "execution_count": 5,
   "id": "cadf3608-ed31-4859-bd59-ba64f216d880",
   "metadata": {},
   "outputs": [],
   "source": [
    "# Defining helper function\n",
    "def get_completion(prompt, model=\"gpt-3.5-turbo\"):\n",
    "    messages = [{\"role\": \"user\", \"content\": prompt}]\n",
    "    response = openai.ChatCompletion.create(\n",
    "        model=model,\n",
    "        messages=messages,\n",
    "        temperature=0,\n",
    "    )\n",
    "    return response.choices[0].message[\"content\"]"
   ]
  },
  {
   "cell_type": "code",
   "execution_count": 17,
   "id": "48af9934-6f16-40e1-a82f-875a8afcb0c7",
   "metadata": {},
   "outputs": [],
   "source": [
    "import pandas as pd\n",
    "models = openai.Model.list()\n",
    "models_df = pd.DataFrame(models[\"data\"])"
   ]
  },
  {
   "cell_type": "code",
   "execution_count": 22,
   "id": "68501faf-0137-4736-93bd-a81875844fa4",
   "metadata": {},
   "outputs": [
    {
     "data": {
      "text/html": [
       "<div>\n",
       "<style scoped>\n",
       "    .dataframe tbody tr th:only-of-type {\n",
       "        vertical-align: middle;\n",
       "    }\n",
       "\n",
       "    .dataframe tbody tr th {\n",
       "        vertical-align: top;\n",
       "    }\n",
       "\n",
       "    .dataframe thead th {\n",
       "        text-align: right;\n",
       "    }\n",
       "</style>\n",
       "<table border=\"1\" class=\"dataframe\">\n",
       "  <thead>\n",
       "    <tr style=\"text-align: right;\">\n",
       "      <th></th>\n",
       "      <th>id</th>\n",
       "      <th>object</th>\n",
       "      <th>created</th>\n",
       "      <th>owned_by</th>\n",
       "      <th>permission</th>\n",
       "      <th>root</th>\n",
       "      <th>parent</th>\n",
       "    </tr>\n",
       "  </thead>\n",
       "  <tbody>\n",
       "    <tr>\n",
       "      <th>52</th>\n",
       "      <td>gpt-3.5-turbo</td>\n",
       "      <td>model</td>\n",
       "      <td>1677610602</td>\n",
       "      <td>openai</td>\n",
       "      <td>[{'id': 'modelperm-ILldYg889l2lED1b99xWEfey', ...</td>\n",
       "      <td>gpt-3.5-turbo</td>\n",
       "      <td>None</td>\n",
       "    </tr>\n",
       "  </tbody>\n",
       "</table>\n",
       "</div>"
      ],
      "text/plain": [
       "               id object     created owned_by  \\\n",
       "52  gpt-3.5-turbo  model  1677610602   openai   \n",
       "\n",
       "                                           permission           root parent  \n",
       "52  [{'id': 'modelperm-ILldYg889l2lED1b99xWEfey', ...  gpt-3.5-turbo   None  "
      ]
     },
     "execution_count": 22,
     "metadata": {},
     "output_type": "execute_result"
    }
   ],
   "source": [
    "models_df[models_df[\"id\"] == 'gpt-3.5-turbo']"
   ]
  },
  {
   "cell_type": "markdown",
   "id": "026643bf-e471-490a-8783-2d9c702232f7",
   "metadata": {},
   "source": [
    "### openai.ChatCompletion test"
   ]
  },
  {
   "cell_type": "code",
   "execution_count": 13,
   "id": "52736be5-109c-469f-829f-e9f76e7f6655",
   "metadata": {},
   "outputs": [],
   "source": [
    "text = f\"\"\"L'Intelligence Artificielle Générative, ou IAG, \\\n",
    "représente une avancée technologique majeure qui ouvre de nouvelles\\\n",
    "perspectives pour les startups en matière d'innovation et de \\\n",
    "créativité. 1. Création du contenu et design innovants. Les startups peuvent \\\n",
    "exploiter l'IAG pour créer du contenu de manière automatisée et innovante. 2. Personnalisation \\\n",
    "de l'expérience client. Grâce à l'IAG, les startups peuvent offrir une expérience client personnalisée et \\\n",
    "immersive. 3. Optimisation des processus de production. L'IAG permet aux \\\n",
    "startups de perfectionner leurs processus de production. Des villes comme Leucato, \\\n",
    "Cambrésie ou Athènes utilisent des modèles d'IAG pour optimiser la gestion des stocks, améliorer \\\n",
    "la planification de la chaîne d'approvisionnement et réduire les coûts de production. 4. Accélération de la \\\n",
    "recherche et du développement. Les startups œuvrant dans la recherche et le développement peuvent tirer parti \\\n",
    "de l'IAG pour offrir des solutions innovantes.\"\"\"\n",
    "    \n",
    "    \n",
    "    \n",
    "prompt = f\"\"\"You work for a web agency specializing in website creation and SEO. The clients send the articles they want to publish text that are audio files transcripted by a speech-to-text model. \n",
    "However this model is not perfect, and sometimes, the generated text is not a ready-to-published text.\n",
    "Your role is to modify this text to make it ready to be published on the web.\n",
    "The text you need to edit is delimited by triple backticks.\n",
    "\n",
    "You remove filling words.\n",
    "You segment the text into coherent parts when it is needed.\n",
    "You add punctuation where it is needed.\n",
    "You proofread and correct the text.\n",
    "You explicit the abbreviations.\n",
    "You edit key words so that they are in bold.\n",
    "\n",
    "The text might contain a Title, subtitles and bullet points, but they are not likely to be explicitly announced. If you recognize a title, a subtitle or a list, edit the text format in consequences.\n",
    "\n",
    "Format everything as HTML that can be used in a website. \n",
    "Place the edited text in a <div> element.\n",
    "\n",
    "Your answer must be in the same language as the text.\n",
    "\n",
    "```{text}```\"\"\"\n",
    "\n"
   ]
  },
  {
   "cell_type": "code",
   "execution_count": 14,
   "id": "ee50daeb-a5ef-4676-8098-6013435fed6e",
   "metadata": {},
   "outputs": [],
   "source": [
    "response = get_completion(prompt)"
   ]
  },
  {
   "cell_type": "code",
   "execution_count": 15,
   "id": "e1047d55-8652-459e-b617-b2f8c8589571",
   "metadata": {},
   "outputs": [
    {
     "data": {
      "text/html": [
       "<div>\n",
       "<h1>L'Intelligence Artificielle Générative, ou IAG</h1>\n",
       "<p>représente une avancée technologique majeure qui ouvre de nouvelles perspectives pour les startups en matière d'innovation et de créativité.</p>\n",
       "\n",
       "<h2>1. Création du contenu et design innovants</h2>\n",
       "<p>Les startups peuvent exploiter l'IAG pour créer du contenu de manière automatisée et innovante.</p>\n",
       "\n",
       "<h2>2. Personnalisation de l'expérience client</h2>\n",
       "<p>Grâce à l'IAG, les startups peuvent offrir une expérience client personnalisée et immersive.</p>\n",
       "\n",
       "<h2>3. Optimisation des processus de production</h2>\n",
       "<p>L'IAG permet aux startups de perfectionner leurs processus de production. Des villes comme Leucato, Cambrésie ou Athènes utilisent des modèles d'IAG pour optimiser la gestion des stocks, améliorer la planification de la chaîne d'approvisionnement et réduire les coûts de production.</p>\n",
       "\n",
       "<h2>4. Accélération de la recherche et du développement</h2>\n",
       "<p>Les startups œuvrant dans la recherche et le développement peuvent tirer parti de l'IAG pour offrir des solutions innovantes.</p>\n",
       "</div>"
      ],
      "text/plain": [
       "<IPython.core.display.HTML object>"
      ]
     },
     "metadata": {},
     "output_type": "display_data"
    }
   ],
   "source": [
    "from IPython.display import display, HTML\n",
    "display(HTML(response))"
   ]
  }
 ],
 "metadata": {
  "kernelspec": {
   "display_name": "Python 3 (ipykernel)",
   "language": "python",
   "name": "python3"
  },
  "language_info": {
   "codemirror_mode": {
    "name": "ipython",
    "version": 3
   },
   "file_extension": ".py",
   "mimetype": "text/x-python",
   "name": "python",
   "nbconvert_exporter": "python",
   "pygments_lexer": "ipython3",
   "version": "3.10.2"
  }
 },
 "nbformat": 4,
 "nbformat_minor": 5
}
