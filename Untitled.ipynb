{
 "cells": [
  {
   "cell_type": "markdown",
   "id": "6b6b1699-6813-4abb-9aa8-15db0130ca57",
   "metadata": {},
   "source": [
    "# Test"
   ]
  },
  {
   "cell_type": "code",
   "execution_count": 1,
   "id": "247f3526-3d6c-4604-ae7f-3e30f56677d2",
   "metadata": {},
   "outputs": [],
   "source": [
    "import os"
   ]
  },
  {
   "cell_type": "code",
   "execution_count": 43,
   "id": "fc88b7c5-dae2-4631-9c6d-5ada8d6757eb",
   "metadata": {},
   "outputs": [],
   "source": [
    "data_directory = 'data/raw'"
   ]
  },
  {
   "cell_type": "code",
   "execution_count": 6,
   "id": "91f6b84f-d737-460a-bdf4-19fdf2559a2b",
   "metadata": {},
   "outputs": [],
   "source": [
    "def get_most_recent_file(directory) :\n",
    "    #list files in directory\n",
    "    files = os.listdir(directory)\n",
    "    \n",
    "    #If the directory is empty, raise error\n",
    "    if not files:\n",
    "        raise NameError('The directory provided is empty. Check src/config.py')\n",
    "        return None\n",
    "\n",
    "    #Raise an error if there are no audio_files in the directory\n",
    "    audio_ext = ['.m4a', '.wav', '.mp3']\n",
    "    files_ext = [f[-4:] for f in files]\n",
    "    if not any(x in files_ext for x in audio_ext):\n",
    "        raise  NameError('There is no audio files in the directory provided. Check src/config.py')\n",
    "        return None\n",
    "\n",
    "    #join the path to the files list\n",
    "    path_files = [os.path.join(directory, f) for f in files]\n",
    "\n",
    "    #Join a list of the date of modification of the file\n",
    "    files_times = [[f, os.path.getmtime(f)] for f in path_files]\n",
    "    #sort the list by time of modification\n",
    "    files_times.sort(key=lambda x:x[1], reverse = True)\n",
    "\n",
    "    return files_times[0][0]\n",
    "    "
   ]
  },
  {
   "cell_type": "code",
   "execution_count": 49,
   "id": "f5ad90f3-4c0a-4363-acf8-bf8979aab9b5",
   "metadata": {},
   "outputs": [
    {
     "data": {
      "text/plain": [
       "'test9'"
      ]
     },
     "execution_count": 49,
     "metadata": {},
     "output_type": "execute_result"
    }
   ],
   "source": [
    "get_most_recent_file(data_directory)[:-4][-5:]"
   ]
  },
  {
   "cell_type": "code",
   "execution_count": 13,
   "id": "afc65d7d-f8ad-40fd-82ed-dcbb9074fd18",
   "metadata": {},
   "outputs": [],
   "source": [
    "transcript_directory = 'data/raw_transcripts'\n",
    "content = 'random string to test my code'"
   ]
  },
  {
   "cell_type": "code",
   "execution_count": 14,
   "id": "f516e417-6f42-4dda-8edf-686e2208a188",
   "metadata": {},
   "outputs": [],
   "source": [
    "def store_raw_transcript(content, directory):\n",
    "    import os.path\n",
    "\n",
    "    #Get file_name based on the the audio file that was transcripted\n",
    "    file_name = get_most_recent_file('data/raw')[:-4][-5:] + '.txt'\n",
    "    full_path = os.path.join(directory, file_name)\n",
    "\n",
    "    #Open the file and write the content in it\n",
    "    with open(full_path, 'w') as file :\n",
    "        file.write(content)\n",
    "\n",
    "    return"
   ]
  },
  {
   "cell_type": "code",
   "execution_count": 15,
   "id": "6b142057-6f87-4a72-a659-faf5bd042644",
   "metadata": {},
   "outputs": [],
   "source": [
    "store_raw_transcript(content, transcript_directory)"
   ]
  },
  {
   "cell_type": "code",
   "execution_count": 22,
   "id": "ece3ee55-8bd2-4715-bff9-59ab18c04ae5",
   "metadata": {},
   "outputs": [],
   "source": [
    "def get_most_recent_file(directory: str) -> str:\n",
    "    import os\n",
    "    #list files in directory\n",
    "    files = os.listdir(directory)\n",
    "    \n",
    "    #If the directory is empty, raise error\n",
    "    if not files:\n",
    "        raise NameError('The directory provided is empty. Check src/config.py')\n",
    "        return None\n",
    "\n",
    "    #Raise an error if there are no audio_files in the directory\n",
    "    audio_ext = ['.m4a', '.wav', '.mp3']\n",
    "    files_ext = [f[-4:] for f in files]\n",
    "    if not any(x in files_ext for x in audio_ext):\n",
    "        raise  NameError('There is no audio files in the directory provided. Check src/config.py')\n",
    "        return None\n",
    "\n",
    "    #join the path to the files list\n",
    "    path_files = [os.path.join(directory, f) for f in files]\n",
    "\n",
    "    #Join a list of the date of modification of the file\n",
    "    files_times = [[f, os.path.getmtime(f)] for f in path_files]\n",
    "    #sort the list by time of modification\n",
    "    files_times.sort(key=lambda x:x[1], reverse = True)\n",
    "\n",
    "    return files_times[0][0]"
   ]
  },
  {
   "cell_type": "code",
   "execution_count": 23,
   "id": "8d8a3cd8-d20a-4766-a6be-6e0ef9e620be",
   "metadata": {},
   "outputs": [
    {
     "data": {
      "text/plain": [
       "'data/raw/test6.wav'"
      ]
     },
     "execution_count": 23,
     "metadata": {},
     "output_type": "execute_result"
    }
   ],
   "source": [
    "get_most_recent_file(DATA_DIRECTORY)"
   ]
  }
 ],
 "metadata": {
  "kernelspec": {
   "display_name": "Python 3 (ipykernel)",
   "language": "python",
   "name": "python3"
  },
  "language_info": {
   "codemirror_mode": {
    "name": "ipython",
    "version": 3
   },
   "file_extension": ".py",
   "mimetype": "text/x-python",
   "name": "python",
   "nbconvert_exporter": "python",
   "pygments_lexer": "ipython3",
   "version": "3.10.2"
  }
 },
 "nbformat": 4,
 "nbformat_minor": 5
}
